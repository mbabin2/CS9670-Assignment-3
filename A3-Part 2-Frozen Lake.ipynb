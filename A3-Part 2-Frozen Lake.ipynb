{
 "cells": [
  {
   "cell_type": "code",
   "execution_count": 1,
   "metadata": {},
   "outputs": [],
   "source": [
    "import numpy as np\n",
    "import math\n",
    "import gym\n",
    "import matplotlib.pyplot as plt\n",
    "from collections import defaultdict"
   ]
  },
  {
   "cell_type": "markdown",
   "metadata": {},
   "source": [
    "## Helper Functions"
   ]
  },
  {
   "cell_type": "code",
   "execution_count": 2,
   "metadata": {},
   "outputs": [],
   "source": [
    "def e_greedy_policy(epsilon, action_values):\n",
    "    if np.random.random() < epsilon:\n",
    "        return env.action_space.sample()\n",
    "    else:\n",
    "        action = np.argmax(action_values)\n",
    "    return action\n",
    "\n",
    "def run_episode(Q, epsilon, max_t=10000, render=False):\n",
    "    trajectory = []\n",
    "    state = env.reset()\n",
    "    for t in range(max_t):\n",
    "        if render:\n",
    "            env.render()\n",
    "        action = e_greedy_policy(epsilon, Q[state])\n",
    "        next_state, reward, done, info = env.step(action)\n",
    "        trajectory.append((state,action,reward))\n",
    "        state = next_state\n",
    "        if done:\n",
    "            break\n",
    "    states, actions, rewards = zip(*trajectory)\n",
    "    return states, actions, rewards"
   ]
  },
  {
   "cell_type": "markdown",
   "metadata": {},
   "source": [
    "# Learning Algorithms"
   ]
  },
  {
   "cell_type": "markdown",
   "metadata": {},
   "source": [
    "## Double Q-Learning"
   ]
  },
  {
   "cell_type": "code",
   "execution_count": 3,
   "metadata": {},
   "outputs": [],
   "source": [
    "def Double_Q_Learning(env, num_episodes, n_avg, alpha, EPSILON, gamma, epsilon_final=0.05, decay_rate=1, decay_threshold=1000000, max_t=10000, reward_modifier=None):\n",
    "    Q1 = defaultdict(lambda: np.zeros(env.nA))\n",
    "    Q2 = defaultdict(lambda: np.zeros(env.nA))\n",
    "    episode_rewards = [] \n",
    "    rolling_avg = []\n",
    "    epsilon = EPSILON\n",
    "    decay_epsilon = False\n",
    "    \n",
    "    for i_episode in range(num_episodes):\n",
    "        state = env.reset()\n",
    "        reward_sum = 0\n",
    "        for t in range(max_t):\n",
    "            action = e_greedy_policy(epsilon, Q1[state]+Q2[state])\n",
    "            next_state, reward, done, info = env.step(action)\n",
    "            reward_sum += reward\n",
    "            if reward_modifier is not None:\n",
    "                reward = reward_modifier[env.desc.flatten()[next_state]]\n",
    "            \n",
    "            if np.random.random_sample() < 0.5:\n",
    "                Q1[state][action] = Q1[state][action] + alpha*(reward + gamma*Q2[next_state][np.argmax(Q1[next_state])] - Q1[state][action])\n",
    "            else:\n",
    "                Q2[state][action] = Q2[state][action] + alpha*(reward + gamma*Q1[next_state][np.argmax(Q2[next_state])] - Q2[state][action])\n",
    "            \n",
    "            state = next_state\n",
    "            if done:\n",
    "                if reward_sum >= decay_threshold: \n",
    "                    decay_epsilon = True\n",
    "                break\n",
    "        episode_rewards.append(reward_sum)\n",
    "        \n",
    "        if decay_epsilon:\n",
    "            epsilon = max(epsilon*decay_rate, epsilon_final)\n",
    "            \n",
    "        if i_episode > n_avg:\n",
    "            rolling_avg.append(np.mean(episode_rewards[-n_avg:]))\n",
    "    return episode_rewards, (Q1,Q2), rolling_avg"
   ]
  },
  {
   "cell_type": "markdown",
   "metadata": {},
   "source": [
    "# Part 2: Frozen Lake"
   ]
  },
  {
   "cell_type": "code",
   "execution_count": 4,
   "metadata": {},
   "outputs": [],
   "source": [
    "env = gym.make(\"FrozenLake-v0\")\n",
    "env.seed(0)\n",
    "np.random.seed(0)"
   ]
  },
  {
   "cell_type": "markdown",
   "metadata": {},
   "source": [
    "2a. Implement one of the following to learn the Frozen Lake task in OpenGym."
   ]
  },
  {
   "cell_type": "code",
   "execution_count": 23,
   "metadata": {},
   "outputs": [],
   "source": [
    "num_episodes = 15000\n",
    "alpha = 0.1\n",
    "epsilon = 1\n",
    "gamma = 0.99\n",
    "n_avg = 100\n",
    "\n",
    "Q_Learning_rewards_a, Q_Learning_q_a, Q_Learning_avgs_a = Double_Q_Learning(env, num_episodes, n_avg, alpha, epsilon, gamma)"
   ]
  },
  {
   "cell_type": "code",
   "execution_count": 24,
   "metadata": {},
   "outputs": [
    {
     "name": "stdout",
     "output_type": "stream",
     "text": [
      "0.752\n"
     ]
    }
   ],
   "source": [
    "total_rewards = []\n",
    "for i in range(1000):\n",
    "    states, actions, rewards = run_episode(Q_Learning_q_a[1], 0, 100, False)\n",
    "    total_rewards.append(sum(rewards))\n",
    "print(np.mean(total_rewards))"
   ]
  },
  {
   "cell_type": "code",
   "execution_count": 7,
   "metadata": {},
   "outputs": [],
   "source": [
    "#states, actions, rewards = run_episode(Q_Learning_q_a[1], 0, 100, True)"
   ]
  },
  {
   "cell_type": "markdown",
   "metadata": {},
   "source": [
    "2b. What is the reward function for the Frozen Lake task? How does this affect your\n",
    "agent’s ability to learn? How might you make things easier for your agent? Modify the\n",
    "reward your agent receives from its actions. Can you achieve better performance?"
   ]
  },
  {
   "cell_type": "code",
   "execution_count": 8,
   "metadata": {},
   "outputs": [],
   "source": [
    "reward_modifier ={\n",
    "b'S': -0.1,\n",
    "b'F': -0.1,\n",
    "b'H': -10,\n",
    "b'G': 10 }\n",
    "\n",
    "num_episodes = 7500\n",
    "alpha = 0.1\n",
    "epsilon = 1\n",
    "gamma = 0.99\n",
    "n_avg = 100\n",
    "\n",
    "Q_Learning_rewards_b, Q_Learning_q_b, Q_Learning_avgs_b = Double_Q_Learning(env, num_episodes, n_avg, alpha, epsilon, gamma, reward_modifier=reward_modifier)"
   ]
  },
  {
   "cell_type": "code",
   "execution_count": 9,
   "metadata": {},
   "outputs": [
    {
     "name": "stdout",
     "output_type": "stream",
     "text": [
      "0.732\n"
     ]
    }
   ],
   "source": [
    "total_rewards = []\n",
    "for i in range(1000):\n",
    "    states, actions, rewards = run_episode(Q_Learning_q_b[1], 0, 100, False)\n",
    "    total_rewards.append(sum(rewards))\n",
    "print(np.mean(total_rewards))"
   ]
  },
  {
   "cell_type": "code",
   "execution_count": 10,
   "metadata": {},
   "outputs": [],
   "source": [
    "#states, actions, rewards = run_episode(Q_Learning_q_b[1], 0, 100, True)"
   ]
  },
  {
   "cell_type": "markdown",
   "metadata": {},
   "source": [
    "2c. Now let’s achieve better performance without cheating. Frozen Lake is about\n",
    "exploration. How could you promote better exploration? What’s the best performance\n",
    "you think you can get, and why?"
   ]
  },
  {
   "cell_type": "code",
   "execution_count": 27,
   "metadata": {},
   "outputs": [],
   "source": [
    "num_episodes = 15000\n",
    "alpha = 0.1\n",
    "epsilon = 1\n",
    "gamma = 0.99\n",
    "n_avg = 100\n",
    "\n",
    "Q_Learning_rewards_c, Q_Learning_q_c, Q_Learning_avgs_c = Double_Q_Learning(env, num_episodes, n_avg, alpha, epsilon, gamma, epsilon_final=0.05, decay_rate=0.999, decay_threshold=1.0)"
   ]
  },
  {
   "cell_type": "code",
   "execution_count": 28,
   "metadata": {},
   "outputs": [
    {
     "name": "stdout",
     "output_type": "stream",
     "text": [
      "0.731\n"
     ]
    }
   ],
   "source": [
    "total_rewards = []\n",
    "for i in range(1000):\n",
    "    states, actions, rewards = run_episode(Q_Learning_q_c[1], 0, 100, False)\n",
    "    total_rewards.append(sum(rewards))\n",
    "print(np.mean(total_rewards))"
   ]
  },
  {
   "cell_type": "code",
   "execution_count": 13,
   "metadata": {},
   "outputs": [],
   "source": [
    "#states, actions, rewards = run_episode(Q_Learning_q_c[1], 0, 100, True)"
   ]
  },
  {
   "cell_type": "code",
   "execution_count": 29,
   "metadata": {},
   "outputs": [
    {
     "data": {
      "image/png": "[encoded data removed]",
      "text/plain": [
       "<Figure size 432x288 with 1 Axes>"
      ]
     },
     "metadata": {
      "needs_background": "light"
     },
     "output_type": "display_data"
    }
   ],
   "source": [
    "plt.plot(Q_Learning_avgs_c, label='Q-Learning')\n",
    "plt.ylabel('Sum of rewards during episode')\n",
    "plt.legend()\n",
    "plt.savefig('Figures/A3P2-2c.png')\n",
    "plt.show()"
   ]
  },
  {
   "cell_type": "code",
   "execution_count": null,
   "metadata": {},
   "outputs": [],
   "source": []
  }
 ],
 "metadata": {
  "kernelspec": {
   "display_name": "Python 3",
   "language": "python",
   "name": "python3"
  },
  "language_info": {
   "codemirror_mode": {
    "name": "ipython",
    "version": 3
   },
   "file_extension": ".py",
   "mimetype": "text/x-python",
   "name": "python",
   "nbconvert_exporter": "python",
   "pygments_lexer": "ipython3",
   "version": "3.8.5"
  }
 },
 "nbformat": 4,
 "nbformat_minor": 4
}
