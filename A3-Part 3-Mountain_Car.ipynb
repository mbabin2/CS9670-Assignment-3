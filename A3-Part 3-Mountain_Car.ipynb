{
 "cells": [
  {
   "cell_type": "code",
   "execution_count": 1,
   "metadata": {},
   "outputs": [],
   "source": [
    "import numpy as np\n",
    "import gym\n",
    "import matplotlib.pyplot as plt\n",
    "from collections import defaultdict"
   ]
  },
  {
   "cell_type": "markdown",
   "metadata": {},
   "source": [
    "## Helper Functions"
   ]
  },
  {
   "cell_type": "code",
   "execution_count": 2,
   "metadata": {},
   "outputs": [],
   "source": [
    "def e_greedy_policy(epsilon, action_values):\n",
    "    if np.random.random() < epsilon:\n",
    "        return env.action_space.sample()\n",
    "    else:\n",
    "        action = np.argmax(action_values)\n",
    "    return action\n",
    "\n",
    "def run_episode(Q, epsilon, max_t=10000, render=False):\n",
    "    trajectory = []\n",
    "    state = tuple(np.round(env.reset()*[10, 100], 0))\n",
    "    for t in range(max_t):\n",
    "        if render:\n",
    "            env.render()\n",
    "        action = e_greedy_policy(epsilon, Q[state])\n",
    "        next_state, reward, done, info = env.step(action)\n",
    "        next_state = tuple(np.round(next_state*[10, 100], 0))\n",
    "        trajectory.append((state,action,reward))\n",
    "        state = next_state\n",
    "        if done:\n",
    "            break\n",
    "    states, actions, rewards = zip(*trajectory)\n",
    "    return states, actions, rewards"
   ]
  },
  {
   "cell_type": "markdown",
   "metadata": {},
   "source": [
    "# Learning Algorithms"
   ]
  },
  {
   "cell_type": "markdown",
   "metadata": {},
   "source": [
    "## Q-Learning"
   ]
  },
  {
   "cell_type": "code",
   "execution_count": 3,
   "metadata": {},
   "outputs": [],
   "source": [
    "def Q_Learning(env, num_episodes, n_avg, alpha, EPSILON, gamma, epsilon_final=0.05, decay_rate=1, decay_threshold=1000000, max_t=10000):\n",
    "    Q = defaultdict(lambda: np.zeros(env.action_space.n))\n",
    "    episode_rewards = [] \n",
    "    rolling_avg = []\n",
    "    epsilon = EPSILON\n",
    "    decay_epsilon = False\n",
    "\n",
    "    for i_episode in range(num_episodes):\n",
    "        state = tuple(np.round(env.reset()*[10, 100], 0))\n",
    "        reward_sum = 0\n",
    "        for t in range(max_t):\n",
    "            action = e_greedy_policy(epsilon, Q[state])\n",
    "            next_state, reward, done, info = env.step(action)\n",
    "            next_state = tuple(np.round(next_state*[10, 100], 0))\n",
    "            reward_sum += reward\n",
    "            Q[state][action] = Q[state][action] + alpha*(reward + gamma*np.max(Q[next_state]) - Q[state][action])\n",
    "            state = next_state\n",
    "            if done:\n",
    "                if reward_sum >= decay_threshold: \n",
    "                    decay_epsilon = True\n",
    "                break\n",
    "        episode_rewards.append(reward_sum)\n",
    "        \n",
    "        if decay_epsilon:\n",
    "            epsilon = max(epsilon*decay_rate, epsilon_final)\n",
    "        \n",
    "        if i_episode > n_avg:\n",
    "            rolling_avg.append(np.mean(episode_rewards[-n_avg:]))\n",
    "\n",
    "    return episode_rewards, Q, rolling_avg"
   ]
  },
  {
   "cell_type": "markdown",
   "metadata": {},
   "source": [
    "# Part 3: Mountain Car"
   ]
  },
  {
   "cell_type": "code",
   "execution_count": 4,
   "metadata": {},
   "outputs": [],
   "source": [
    "env = gym.make(\"MountainCar-v0\")\n",
    "env.seed(0)\n",
    "np.random.seed(0)"
   ]
  },
  {
   "cell_type": "markdown",
   "metadata": {},
   "source": [
    "3. Implement tabular Q-Learning to solve the Mountain Car task in OpenGym."
   ]
  },
  {
   "cell_type": "code",
   "execution_count": 5,
   "metadata": {},
   "outputs": [],
   "source": [
    "num_episodes = 5000\n",
    "alpha = 0.1\n",
    "epsilon = 0.90\n",
    "gamma = 0.99\n",
    "n_avg = 100\n",
    "\n",
    "Q_Learning_rewards, Q_Learning_q, Q_Learning_avgs = Q_Learning(env, num_episodes, n_avg, alpha, epsilon, gamma\n",
    "                                                                           , epsilon_final=0.05, decay_rate=0.995, decay_threshold=-200.0)"
   ]
  },
  {
   "cell_type": "code",
   "execution_count": 10,
   "metadata": {},
   "outputs": [
    {
     "name": "stdout",
     "output_type": "stream",
     "text": [
      "-152.698\n"
     ]
    }
   ],
   "source": [
    "total_rewards = []\n",
    "for i in range(1000):\n",
    "    states, actions, rewards = run_episode(Q_Learning_q, 0, 200, False)\n",
    "    total_rewards.append(sum(rewards))\n",
    "env.close()\n",
    "print(np.mean(total_rewards))"
   ]
  },
  {
   "cell_type": "code",
   "execution_count": 11,
   "metadata": {},
   "outputs": [
    {
     "name": "stdout",
     "output_type": "stream",
     "text": [
      "-171.0\n"
     ]
    }
   ],
   "source": [
    "print(np.min(total_rewards))"
   ]
  },
  {
   "cell_type": "code",
   "execution_count": 12,
   "metadata": {},
   "outputs": [
    {
     "name": "stdout",
     "output_type": "stream",
     "text": [
      "-140.0\n"
     ]
    }
   ],
   "source": [
    "print(np.max(total_rewards))"
   ]
  },
  {
   "cell_type": "code",
   "execution_count": 9,
   "metadata": {},
   "outputs": [
    {
     "data": {
      "image/png": "[encoded data removed]",
      "text/plain": [
       "<Figure size 432x288 with 1 Axes>"
      ]
     },
     "metadata": {
      "needs_background": "light"
     },
     "output_type": "display_data"
    }
   ],
   "source": [
    "plt.plot(Q_Learning_avgs, label='Q-Learning')\n",
    "plt.ylabel('Sum of rewards during episode')\n",
    "plt.legend()\n",
    "plt.savefig('Figures/A3P3-3a.png')\n",
    "plt.show()"
   ]
  },
  {
   "cell_type": "code",
   "execution_count": null,
   "metadata": {},
   "outputs": [],
   "source": []
  }
 ],
 "metadata": {
  "kernelspec": {
   "display_name": "Python 3",
   "language": "python",
   "name": "python3"
  },
  "language_info": {
   "codemirror_mode": {
    "name": "ipython",
    "version": 3
   },
   "file_extension": ".py",
   "mimetype": "text/x-python",
   "name": "python",
   "nbconvert_exporter": "python",
   "pygments_lexer": "ipython3",
   "version": "3.8.5"
  }
 },
 "nbformat": 4,
 "nbformat_minor": 4
}
